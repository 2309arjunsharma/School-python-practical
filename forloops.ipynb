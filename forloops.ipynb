{
 "cells": [
  {
   "cell_type": "code",
   "execution_count": 1,
   "id": "869d7194",
   "metadata": {},
   "outputs": [
    {
     "name": "stdout",
     "output_type": "stream",
     "text": [
      "s\n",
      "m\n",
      "i\n",
      "l\n",
      "e\n"
     ]
    }
   ],
   "source": [
    "for x in \"smile\":\n",
    "    print(x)"
   ]
  },
  {
   "cell_type": "code",
   "execution_count": 2,
   "id": "d3a97f6f",
   "metadata": {},
   "outputs": [
    {
     "name": "stdout",
     "output_type": "stream",
     "text": [
      "best\n",
      "77\n",
      "Yay!!\n"
     ]
    }
   ],
   "source": [
    "for i in [\"best\",77,\"Yay!!\"]:\n",
    "    print(i)"
   ]
  },
  {
   "cell_type": "code",
   "execution_count": 3,
   "id": "025f8577",
   "metadata": {},
   "outputs": [
    {
     "name": "stdout",
     "output_type": "stream",
     "text": [
      "20\n",
      "25\n",
      "30\n",
      "35\n"
     ]
    }
   ],
   "source": [
    "for i in range(20,40,5):\n",
    "    print(i)"
   ]
  },
  {
   "cell_type": "code",
   "execution_count": 4,
   "id": "987e3929",
   "metadata": {},
   "outputs": [
    {
     "name": "stdout",
     "output_type": "stream",
     "text": [
      "0\n",
      "0\n",
      "5\n",
      "10\n",
      "15\n",
      "20\n",
      "5\n",
      "25\n",
      "30\n",
      "35\n",
      "40\n",
      "45\n",
      "10\n",
      "50\n",
      "55\n",
      "60\n",
      "65\n",
      "70\n",
      "15\n",
      "75\n",
      "80\n",
      "85\n",
      "90\n",
      "95\n",
      "20\n",
      "100\n",
      "105\n",
      "110\n",
      "115\n",
      "120\n",
      "25\n",
      "125\n",
      "130\n",
      "135\n",
      "140\n",
      "145\n",
      "30\n",
      "150\n",
      "155\n",
      "160\n",
      "165\n",
      "170\n",
      "35\n",
      "175\n"
     ]
    }
   ],
   "source": [
    "for i in range(36):\n",
    "    if i%5==0:\n",
    "        print(i)\n",
    "    print(i*5)"
   ]
  },
  {
   "cell_type": "code",
   "execution_count": 5,
   "id": "df9de3b3",
   "metadata": {},
   "outputs": [
    {
     "name": "stdout",
     "output_type": "stream",
     "text": [
      "0\n",
      "1\n",
      "2\n",
      "3\n",
      "4\n",
      "5\n",
      "6\n",
      "7\n",
      "8\n",
      "9\n",
      "10\n"
     ]
    }
   ],
   "source": [
    "for i in range(11):\n",
    "    print(i)"
   ]
  }
 ],
 "metadata": {
  "kernelspec": {
   "display_name": "base",
   "language": "python",
   "name": "python3"
  },
  "language_info": {
   "codemirror_mode": {
    "name": "ipython",
    "version": 3
   },
   "file_extension": ".py",
   "mimetype": "text/x-python",
   "name": "python",
   "nbconvert_exporter": "python",
   "pygments_lexer": "ipython3",
   "version": "3.12.4"
  }
 },
 "nbformat": 4,
 "nbformat_minor": 5
}
