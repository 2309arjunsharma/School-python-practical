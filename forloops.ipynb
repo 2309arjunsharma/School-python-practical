{
 "cells": [
  {
   "cell_type": "code",
   "execution_count": 1,
   "id": "869d7194",
   "metadata": {},
   "outputs": [
    {
     "name": "stdout",
     "output_type": "stream",
     "text": [
      "s\n",
      "m\n",
      "i\n",
      "l\n",
      "e\n"
     ]
    }
   ],
   "source": [
    "for x in \"smile\":\n",
    "    print(x)"
   ]
  },
  {
   "cell_type": "code",
   "execution_count": 2,
   "id": "d3a97f6f",
   "metadata": {},
   "outputs": [
    {
     "name": "stdout",
     "output_type": "stream",
     "text": [
      "best\n",
      "77\n",
      "Yay!!\n"
     ]
    }
   ],
   "source": [
    "for i in [\"best\",77,\"Yay!!\"]:\n",
    "    print(i)"
   ]
  }
 ],
 "metadata": {
  "kernelspec": {
   "display_name": "base",
   "language": "python",
   "name": "python3"
  },
  "language_info": {
   "codemirror_mode": {
    "name": "ipython",
    "version": 3
   },
   "file_extension": ".py",
   "mimetype": "text/x-python",
   "name": "python",
   "nbconvert_exporter": "python",
   "pygments_lexer": "ipython3",
   "version": "3.12.4"
  }
 },
 "nbformat": 4,
 "nbformat_minor": 5
}
