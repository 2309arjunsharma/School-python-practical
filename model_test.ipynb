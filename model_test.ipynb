{
 "cells": [
  {
   "cell_type": "code",
   "execution_count": 3,
   "id": "9b4ba1fd",
   "metadata": {},
   "outputs": [
    {
     "name": "stdout",
     "output_type": "stream",
     "text": [
      "20\n",
      "22\n",
      "24\n",
      "26\n",
      "28\n",
      "30\n",
      "32\n",
      "34\n",
      "36\n",
      "38\n",
      "40\n",
      "42\n",
      "44\n",
      "46\n",
      "48\n",
      "50\n"
     ]
    }
   ],
   "source": [
    "i = 20\n",
    "while i<=50:\n",
    "    if i%2==0:\n",
    "        print(i)\n",
    "    i=i+1"
   ]
  },
  {
   "cell_type": "code",
   "execution_count": 4,
   "id": "99416ea4",
   "metadata": {},
   "outputs": [
    {
     "name": "stdout",
     "output_type": "stream",
     "text": [
      "Square: 144 \n",
      "Cube: 1728\n"
     ]
    }
   ],
   "source": [
    "num = int(input(\"Enter a number: \"))\n",
    "print(\"Square:\",num**2,\"\\nCube:\",num**3)"
   ]
  },
  {
   "cell_type": "code",
   "execution_count": 7,
   "id": "c19bbb77",
   "metadata": {},
   "outputs": [
    {
     "name": "stdout",
     "output_type": "stream",
     "text": [
      "Area of the circle is 153.86 m²\n"
     ]
    }
   ],
   "source": [
    "r = float(input(\"Enter the radius of circle (in m): \"))\n",
    "area = 3.14*(r**2)\n",
    "print(\"Area of the circle is\",area,\"m²\")"
   ]
  },
  {
   "cell_type": "code",
   "execution_count": 8,
   "id": "fccfddc3",
   "metadata": {},
   "outputs": [
    {
     "name": "stdout",
     "output_type": "stream",
     "text": [
      "17\n",
      "34\n",
      "51\n",
      "68\n",
      "85\n",
      "102\n",
      "119\n",
      "136\n",
      "153\n",
      "170\n"
     ]
    }
   ],
   "source": [
    "num = 17\n",
    "while num<171:\n",
    "    print(num)\n",
    "    num = num+17"
   ]
  },
  {
   "cell_type": "code",
   "execution_count": 13,
   "id": "55a8aef9",
   "metadata": {},
   "outputs": [
    {
     "name": "stdout",
     "output_type": "stream",
     "text": [
      "89.0\n",
      "89.0\n",
      "Good\n"
     ]
    }
   ],
   "source": [
    "m1 = float(input(\"Enter marks1: \"))\n",
    "m2 = float(input(\"Enter marks2: \"))\n",
    "m3 = float(input(\"Enter marks3: \"))\n",
    "avg=(m1+m2+m3)/3\n",
    "print(avg)\n",
    "percent=avg\n",
    "print(percent)\n",
    "if percent>=90:\n",
    "    print(\"Excellent\")\n",
    "elif percent>=75:\n",
    "    print(\"Good\")\n",
    "else:\n",
    "    print(\"Needs improvement\")\n",
    "\n"
   ]
  },
  {
   "cell_type": "code",
   "execution_count": 14,
   "id": "03f21245",
   "metadata": {},
   "outputs": [
    {
     "name": "stdout",
     "output_type": "stream",
     "text": [
      "7\n",
      "14\n",
      "21\n",
      "28\n",
      "35\n",
      "42\n",
      "49\n",
      "56\n",
      "63\n",
      "70\n",
      "77\n",
      "84\n",
      "91\n",
      "98\n"
     ]
    }
   ],
   "source": [
    "i=1\n",
    "while i<=100:\n",
    "    if i%7==0:\n",
    "        print(i)\n",
    "    i=i+1"
   ]
  },
  {
   "cell_type": "code",
   "execution_count": 16,
   "id": "fbd4cca1",
   "metadata": {},
   "outputs": [
    {
     "name": "stdout",
     "output_type": "stream",
     "text": [
      "Pay 250\n"
     ]
    }
   ],
   "source": [
    "age=int(input(\"Enter your age: \"))\n",
    "if age>60:\n",
    "    print(\"Pay 200\")\n",
    "elif age>=12:\n",
    "    print(\"Pay 250\")\n",
    "else:\n",
    "    print(\"Pay 150\")"
   ]
  },
  {
   "cell_type": "code",
   "execution_count": 17,
   "id": "939c7423",
   "metadata": {},
   "outputs": [
    {
     "name": "stdout",
     "output_type": "stream",
     "text": [
      "Pay 35\n"
     ]
    }
   ],
   "source": [
    "late_days=int(input(\"Enter no. of late days: \"))\n",
    "if late_days<=5:\n",
    "    print(\"Pay\",late_days*2)\n",
    "elif late_days<=10:\n",
    "    print(\"Pay\",late_days*5)\n",
    "else:\n",
    "    print(\"Pay\",late_days*10)"
   ]
  }
 ],
 "metadata": {
  "kernelspec": {
   "display_name": "base",
   "language": "python",
   "name": "python3"
  },
  "language_info": {
   "codemirror_mode": {
    "name": "ipython",
    "version": 3
   },
   "file_extension": ".py",
   "mimetype": "text/x-python",
   "name": "python",
   "nbconvert_exporter": "python",
   "pygments_lexer": "ipython3",
   "version": "3.12.4"
  }
 },
 "nbformat": 4,
 "nbformat_minor": 5
}
