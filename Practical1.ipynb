{
 "cells": [
  {
   "cell_type": "code",
   "execution_count": 14,
   "id": "5a1bf035",
   "metadata": {},
   "outputs": [
    {
     "name": "stdout",
     "output_type": "stream",
     "text": [
      "Area of rectangle is 310.07\n"
     ]
    }
   ],
   "source": [
    "l = float(input(\"Enter the length: \"))\n",
    "b = float(input(\"Enter the breadth: \"))\n",
    "area = l*b\n",
    "print(\"Area of rectangle is\",area)"
   ]
  },
  {
   "cell_type": "code",
   "execution_count": 15,
   "id": "4a6cc8c7",
   "metadata": {},
   "outputs": [
    {
     "name": "stdout",
     "output_type": "stream",
     "text": [
      "13 -7 30 0.3 0 3 59049\n"
     ]
    }
   ],
   "source": [
    "a = 3\n",
    "b = 10\n",
    "print(a+b, a-b, a*b, a/b, a//b, a%b, a**b)"
   ]
  },
  {
   "cell_type": "code",
   "execution_count": 19,
   "id": "151727a7",
   "metadata": {},
   "outputs": [
    {
     "name": "stdout",
     "output_type": "stream",
     "text": [
      "KeepSmiling\n",
      "Value of variable a is True\n"
     ]
    }
   ],
   "source": [
    "print(\"Keep\"+\"Smiling\")\n",
    "a = \"True\"\n",
    "print(\"Value of variable a is \"+ a)"
   ]
  }
 ],
 "metadata": {
  "kernelspec": {
   "display_name": "base",
   "language": "python",
   "name": "python3"
  },
  "language_info": {
   "codemirror_mode": {
    "name": "ipython",
    "version": 3
   },
   "file_extension": ".py",
   "mimetype": "text/x-python",
   "name": "python",
   "nbconvert_exporter": "python",
   "pygments_lexer": "ipython3",
   "version": "3.12.4"
  }
 },
 "nbformat": 4,
 "nbformat_minor": 5
}
