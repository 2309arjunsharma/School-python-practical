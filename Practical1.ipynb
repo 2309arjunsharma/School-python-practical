{
 "cells": [
  {
   "cell_type": "code",
   "execution_count": 14,
   "id": "5a1bf035",
   "metadata": {},
   "outputs": [
    {
     "name": "stdout",
     "output_type": "stream",
     "text": [
      "Area of rectangle is 310.07\n"
     ]
    }
   ],
   "source": [
    "l = float(input(\"Enter the length: \"))\n",
    "b = float(input(\"Enter the breadth: \"))\n",
    "area = l*b\n",
    "print(\"Area of rectangle is\",area)"
   ]
  },
  {
   "cell_type": "code",
   "execution_count": 15,
   "id": "4a6cc8c7",
   "metadata": {},
   "outputs": [
    {
     "name": "stdout",
     "output_type": "stream",
     "text": [
      "13 -7 30 0.3 0 3 59049\n"
     ]
    }
   ],
   "source": [
    "a = 3\n",
    "b = 10\n",
    "print(a+b, a-b, a*b, a/b, a//b, a%b, a**b)"
   ]
  },
  {
   "cell_type": "code",
   "execution_count": 19,
   "id": "151727a7",
   "metadata": {},
   "outputs": [
    {
     "name": "stdout",
     "output_type": "stream",
     "text": [
      "KeepSmiling\n",
      "Value of variable a is True\n"
     ]
    }
   ],
   "source": [
    "print(\"Keep\"+\"Smiling\")\n",
    "a = \"True\"\n",
    "print(\"Value of variable a is \"+ a)"
   ]
  },
  {
   "cell_type": "code",
   "execution_count": 20,
   "id": "f2fec3ad",
   "metadata": {},
   "outputs": [
    {
     "name": "stdout",
     "output_type": "stream",
     "text": [
      "Smile Smile Smile \n",
      "Laughter \n",
      " LaughterLaughterLaughter\n"
     ]
    }
   ],
   "source": [
    "print(\"Smile \"*3)\n",
    "a=\"Laughter\"\n",
    "print(a,\"\\n\",a*3)"
   ]
  },
  {
   "cell_type": "code",
   "execution_count": 22,
   "id": "b81894e0",
   "metadata": {},
   "outputs": [
    {
     "name": "stdout",
     "output_type": "stream",
     "text": [
      "8\tG\n",
      "8\n",
      "G\n",
      "8 G\n"
     ]
    }
   ],
   "source": [
    "print(\"8\\tG\")\n",
    "print(\"8\\nG\")\n",
    "print(\"8\",\"G\")"
   ]
  },
  {
   "cell_type": "code",
   "execution_count": 1,
   "id": "9f0a9eee",
   "metadata": {},
   "outputs": [
    {
     "name": "stdout",
     "output_type": "stream",
     "text": [
      "6.666666666666667\n",
      "366.0\n",
      "2916\n"
     ]
    }
   ],
   "source": [
    "a = 40\n",
    "b = 6\n",
    "c = 5\n",
    "d = 3\n",
    "print(a/b)\n",
    "print(a//b+c/d*b**d)\n",
    "print((a+b+c+d)*(a+b+c+d))"
   ]
  }
 ],
 "metadata": {
  "kernelspec": {
   "display_name": "base",
   "language": "python",
   "name": "python3"
  },
  "language_info": {
   "codemirror_mode": {
    "name": "ipython",
    "version": 3
   },
   "file_extension": ".py",
   "mimetype": "text/x-python",
   "name": "python",
   "nbconvert_exporter": "python",
   "pygments_lexer": "ipython3",
   "version": "3.12.4"
  }
 },
 "nbformat": 4,
 "nbformat_minor": 5
}
